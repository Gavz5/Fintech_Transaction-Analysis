{
 "cells": [
  {
   "cell_type": "markdown",
   "id": "254fe1c4-5a11-4a72-ae0c-db5d8b9f1b17",
   "metadata": {},
   "source": [
    "# Object Oriented Programming (OOPs)"
   ]
  },
  {
   "cell_type": "code",
   "execution_count": 1,
   "id": "3c0b86e8-91eb-4d31-8b08-a965bfbb7727",
   "metadata": {},
   "outputs": [
    {
     "name": "stdout",
     "output_type": "stream",
     "text": [
      "25\n",
      "-10\n"
     ]
    }
   ],
   "source": [
    "# procedure oriented \n",
    "\n",
    "a = 10\n",
    "b = 15\n",
    "\n",
    "a = a+b\n",
    "\n",
    "c = b-a\n",
    "\n",
    "print(a)\n",
    "print(c)"
   ]
  },
  {
   "cell_type": "markdown",
   "id": "c2fc620e-6c0a-48d5-87e7-4b34f0d23abf",
   "metadata": {},
   "source": [
    "#### Object Oriented Programming\n",
    "- An object oriented programming is used to design the program using class and objects.\n"
   ]
  },
  {
   "cell_type": "markdown",
   "id": "05d125cd-e2f7-404b-b525-0f6e96710b73",
   "metadata": {},
   "source": [
    "##### Class :\n",
    "    - Class contains blueprint or prototype for which the object are beign created.\n",
    "    - It is logical entity that have some specific attributes and methods.\n",
    "\n",
    "        for eg. if you have employee class\n",
    "        ie. name,emp_id,age,salary,email,...\n",
    "\n",
    "        ---to define the class----\n",
    "            class class_name:\n",
    "                    body (attributes and methods)"
   ]
  },
  {
   "cell_type": "code",
   "execution_count": 2,
   "id": "113a40e7-528d-486e-8e05-3bc9acc6017f",
   "metadata": {},
   "outputs": [],
   "source": [
    "class student:\n",
    "    name = 'kevin'"
   ]
  },
  {
   "cell_type": "markdown",
   "id": "9d29857a-6fb4-4f3a-b9b2-06d07470a9c7",
   "metadata": {},
   "source": [
    "### Object and object instance\n",
    "    - It is basic runtime entity which executes class / which represents the class.\n",
    "    - The object is an entity that has state and behavior.\n",
    "    - The object is a group of interrelated variables and functions. These variables are often referred as properties of the objects and function are referred to the behaviour of the object.\n",
    "\n",
    "    Syntax :\n",
    "        object_name = class_name()"
   ]
  },
  {
   "cell_type": "code",
   "execution_count": 3,
   "id": "147564af-c411-4209-96ce-b2485b8e7751",
   "metadata": {},
   "outputs": [],
   "source": [
    "s1 = student()"
   ]
  },
  {
   "cell_type": "code",
   "execution_count": 4,
   "id": "3b68e4f6-9b5e-40fe-8ae1-ced4f731d096",
   "metadata": {},
   "outputs": [
    {
     "name": "stdout",
     "output_type": "stream",
     "text": [
      "<__main__.student object at 0x000001E6AD974D50>\n"
     ]
    }
   ],
   "source": [
    "print(s1)"
   ]
  },
  {
   "cell_type": "code",
   "execution_count": 5,
   "id": "f95db1ee-a73b-4be8-ac70-9a66bda79260",
   "metadata": {},
   "outputs": [
    {
     "name": "stdout",
     "output_type": "stream",
     "text": [
      "kevin\n"
     ]
    }
   ],
   "source": [
    "print(s1.name)"
   ]
  },
  {
   "cell_type": "markdown",
   "id": "cec497a9-aaff-4c7a-ba13-ebc8d0ba9855",
   "metadata": {},
   "source": [
    "#### Contructor (__init__ function)\n",
    "   \n",
    "    - All classes have a function called __init__(), which is always executes when object is being inititated\n"
   ]
  },
  {
   "cell_type": "code",
   "execution_count": 6,
   "id": "121374c1-6056-431f-acea-240d904c503a",
   "metadata": {},
   "outputs": [],
   "source": [
    "def add(a,b):\n",
    "    return a+b"
   ]
  },
  {
   "cell_type": "code",
   "execution_count": 1,
   "id": "7498399c-41fc-491d-ba30-a7baa0604159",
   "metadata": {},
   "outputs": [],
   "source": [
    "class student:\n",
    "    def __init__(self,fullname):\n",
    "        self.name = fullname\n",
    "        print(\"adding the student in the database\")"
   ]
  },
  {
   "cell_type": "code",
   "execution_count": 22,
   "id": "4a24a8d7-5d3d-4ffd-8225-d09c2eb26b27",
   "metadata": {},
   "outputs": [
    {
     "name": "stdout",
     "output_type": "stream",
     "text": [
      "adding the student in the database\n"
     ]
    }
   ],
   "source": [
    "s2 = student('kevin')"
   ]
  },
  {
   "cell_type": "code",
   "execution_count": 17,
   "id": "3e71fbe2-5493-4ca5-b8e2-63c9d1730145",
   "metadata": {},
   "outputs": [
    {
     "data": {
      "text/plain": [
       "<__main__.student at 0x1e6ade94d10>"
      ]
     },
     "execution_count": 17,
     "metadata": {},
     "output_type": "execute_result"
    }
   ],
   "source": [
    "s2"
   ]
  },
  {
   "cell_type": "code",
   "execution_count": 23,
   "id": "3697f420-5aa1-4a87-960d-e268192abbb0",
   "metadata": {},
   "outputs": [
    {
     "data": {
      "text/plain": [
       "'kevin'"
      ]
     },
     "execution_count": 23,
     "metadata": {},
     "output_type": "execute_result"
    }
   ],
   "source": [
    "s2.name"
   ]
  },
  {
   "cell_type": "code",
   "execution_count": 24,
   "id": "132dd800-a498-462b-ac67-65602569d16b",
   "metadata": {},
   "outputs": [
    {
     "name": "stdout",
     "output_type": "stream",
     "text": [
      "adding the student in the database\n"
     ]
    }
   ],
   "source": [
    "s3= student('David')"
   ]
  },
  {
   "cell_type": "code",
   "execution_count": 25,
   "id": "a7808277-b27d-4cd2-9b33-6ec17653bb27",
   "metadata": {},
   "outputs": [
    {
     "data": {
      "text/plain": [
       "'David'"
      ]
     },
     "execution_count": 25,
     "metadata": {},
     "output_type": "execute_result"
    }
   ],
   "source": [
    "s3.name"
   ]
  },
  {
   "cell_type": "code",
   "execution_count": 27,
   "id": "908f789c-f8a6-4050-b5b6-1d565257164b",
   "metadata": {},
   "outputs": [
    {
     "name": "stdout",
     "output_type": "stream",
     "text": [
      "adding the student in the database\n"
     ]
    }
   ],
   "source": [
    "s4 = student('John')"
   ]
  },
  {
   "cell_type": "code",
   "execution_count": 28,
   "id": "da02700f-d3e6-4cc3-bce4-e51c08addc5e",
   "metadata": {},
   "outputs": [
    {
     "data": {
      "text/plain": [
       "'John'"
      ]
     },
     "execution_count": 28,
     "metadata": {},
     "output_type": "execute_result"
    }
   ],
   "source": [
    "s4.name"
   ]
  },
  {
   "cell_type": "code",
   "execution_count": 39,
   "id": "05cd0ffe-5b81-4b16-bd0e-b139e3eec541",
   "metadata": {},
   "outputs": [],
   "source": [
    "class student:\n",
    "    college_name = 'abc'  # class attributes\n",
    "    def __init__(self,fullname):\n",
    "        self.name = fullname # object attributes\n",
    "        print(\"adding the student in the database\")"
   ]
  },
  {
   "cell_type": "code",
   "execution_count": 32,
   "id": "97227d20-6b30-48a9-bf6b-fc7fc3a4e3eb",
   "metadata": {},
   "outputs": [
    {
     "name": "stdout",
     "output_type": "stream",
     "text": [
      "adding the student in the database\n"
     ]
    }
   ],
   "source": [
    "std1 = student('Rahul')"
   ]
  },
  {
   "cell_type": "code",
   "execution_count": 33,
   "id": "7bc7043a-4411-4e49-98ab-e09f7f000b32",
   "metadata": {},
   "outputs": [
    {
     "data": {
      "text/plain": [
       "'Rahul'"
      ]
     },
     "execution_count": 33,
     "metadata": {},
     "output_type": "execute_result"
    }
   ],
   "source": [
    "std1.name"
   ]
  },
  {
   "cell_type": "code",
   "execution_count": 35,
   "id": "3b4a3844-df3d-4a00-84b2-919c41af7091",
   "metadata": {},
   "outputs": [
    {
     "data": {
      "text/plain": [
       "'abc'"
      ]
     },
     "execution_count": 35,
     "metadata": {},
     "output_type": "execute_result"
    }
   ],
   "source": [
    "std1.college_name"
   ]
  },
  {
   "cell_type": "code",
   "execution_count": 36,
   "id": "3368b115-dbf4-47de-8b9d-3dd42685a954",
   "metadata": {},
   "outputs": [
    {
     "name": "stdout",
     "output_type": "stream",
     "text": [
      "adding the student in the database\n"
     ]
    }
   ],
   "source": [
    "std2 = student('Johnny')"
   ]
  },
  {
   "cell_type": "code",
   "execution_count": 37,
   "id": "d8f3319f-111c-4822-85f8-175b3626f3f5",
   "metadata": {},
   "outputs": [
    {
     "data": {
      "text/plain": [
       "'Johnny'"
      ]
     },
     "execution_count": 37,
     "metadata": {},
     "output_type": "execute_result"
    }
   ],
   "source": [
    "std2.name"
   ]
  },
  {
   "cell_type": "code",
   "execution_count": 38,
   "id": "94bd7cbd-34f3-48af-b4fd-b1d9f76ec9a2",
   "metadata": {},
   "outputs": [
    {
     "data": {
      "text/plain": [
       "'abc'"
      ]
     },
     "execution_count": 38,
     "metadata": {},
     "output_type": "execute_result"
    }
   ],
   "source": [
    "std2.college_name"
   ]
  },
  {
   "cell_type": "code",
   "execution_count": 47,
   "id": "64664690-0b2f-4979-8a86-205349e4ee81",
   "metadata": {},
   "outputs": [],
   "source": [
    "class student:\n",
    "    college_name = 'abc' \n",
    "    name = 'xyz'  # class attribute\n",
    "    def __init__(self,fullname,mrk):\n",
    "        self.name = fullname # object attribute\n",
    "        self.marks = mrk \n",
    "        print(\"adding the student in the database\")"
   ]
  },
  {
   "cell_type": "code",
   "execution_count": 41,
   "id": "e8647d4f-3e35-418c-bed8-b3bf9b29b622",
   "metadata": {},
   "outputs": [
    {
     "name": "stdout",
     "output_type": "stream",
     "text": [
      "adding the student in the database\n"
     ]
    }
   ],
   "source": [
    "objt1 = student('Arjun',98)"
   ]
  },
  {
   "cell_type": "code",
   "execution_count": 42,
   "id": "47ae0a44-5071-42a0-99f0-40a257d65f40",
   "metadata": {},
   "outputs": [
    {
     "name": "stdout",
     "output_type": "stream",
     "text": [
      "adding the student in the database\n"
     ]
    }
   ],
   "source": [
    "objt2 = student('Karan',45)"
   ]
  },
  {
   "cell_type": "code",
   "execution_count": 43,
   "id": "73faf5de-5034-4fac-b1a7-f59e846d93fa",
   "metadata": {},
   "outputs": [
    {
     "data": {
      "text/plain": [
       "'abc'"
      ]
     },
     "execution_count": 43,
     "metadata": {},
     "output_type": "execute_result"
    }
   ],
   "source": [
    "objt2.college_name"
   ]
  },
  {
   "cell_type": "code",
   "execution_count": 44,
   "id": "88f59239-f41f-4af1-88f3-88b1667048cd",
   "metadata": {},
   "outputs": [
    {
     "data": {
      "text/plain": [
       "'abc'"
      ]
     },
     "execution_count": 44,
     "metadata": {},
     "output_type": "execute_result"
    }
   ],
   "source": [
    "objt1.college_name"
   ]
  },
  {
   "cell_type": "code",
   "execution_count": 46,
   "id": "4e330dce-256b-47f7-9af8-30f29763e564",
   "metadata": {},
   "outputs": [
    {
     "data": {
      "text/plain": [
       "45"
      ]
     },
     "execution_count": 46,
     "metadata": {},
     "output_type": "execute_result"
    }
   ],
   "source": [
    "objt2.marks"
   ]
  },
  {
   "cell_type": "code",
   "execution_count": 52,
   "id": "8bba8ff8-60a4-4dd4-bf8f-c04788ef291c",
   "metadata": {},
   "outputs": [],
   "source": [
    "class student:\n",
    "    college_name = 'abc' \n",
    "    name1 = 'xyz'  # class attribute\n",
    "    def __init__(self,fullname,mrk):\n",
    "        self.name = fullname # object attribute > class attribute\n",
    "        self.marks = mrk \n",
    "        print(\"adding the student in the database\")"
   ]
  },
  {
   "cell_type": "code",
   "execution_count": 53,
   "id": "47571ce7-2754-458b-bd57-256cdb3a7f90",
   "metadata": {},
   "outputs": [
    {
     "name": "stdout",
     "output_type": "stream",
     "text": [
      "adding the student in the database\n"
     ]
    }
   ],
   "source": [
    "new_object = student('Mahesh',87)"
   ]
  },
  {
   "cell_type": "code",
   "execution_count": 56,
   "id": "b0dcd672-0ad4-4695-98d0-332755cd1b82",
   "metadata": {},
   "outputs": [
    {
     "data": {
      "text/plain": [
       "'xyz'"
      ]
     },
     "execution_count": 56,
     "metadata": {},
     "output_type": "execute_result"
    }
   ],
   "source": [
    "new_object.name1"
   ]
  },
  {
   "cell_type": "code",
   "execution_count": 55,
   "id": "2d03d6b0-a7de-42a4-9b5d-149315237e5c",
   "metadata": {},
   "outputs": [
    {
     "data": {
      "text/plain": [
       "'abc'"
      ]
     },
     "execution_count": 55,
     "metadata": {},
     "output_type": "execute_result"
    }
   ],
   "source": [
    "new_object.college_name"
   ]
  },
  {
   "cell_type": "code",
   "execution_count": 14,
   "id": "c8d2df82-07b2-440a-b016-6fb30514d021",
   "metadata": {},
   "outputs": [],
   "source": [
    "class student:\n",
    "    college_name = 'abc' \n",
    "    def __init__(self,fullname,mrk,st_gender,st_city):\n",
    "        self.name = fullname \n",
    "        self.marks = mrk\n",
    "        self.gender = st_gender\n",
    "        self.city = st_city\n",
    "    def welcome(self):\n",
    "        print('Welcome all !!!, We are learning OOPs concept')\n",
    "        "
   ]
  },
  {
   "cell_type": "code",
   "execution_count": 15,
   "id": "7a151444-fc50-47b5-b3e3-5c006e6ee8b2",
   "metadata": {},
   "outputs": [],
   "source": [
    "s1 = student('Mark',[76,85,88],'Male','Pune')"
   ]
  },
  {
   "cell_type": "code",
   "execution_count": 16,
   "id": "aa11b1fd-64cc-4d8c-883e-ccf4f71931ef",
   "metadata": {},
   "outputs": [
    {
     "data": {
      "text/plain": [
       "[76, 85, 88]"
      ]
     },
     "execution_count": 16,
     "metadata": {},
     "output_type": "execute_result"
    }
   ],
   "source": [
    "s1.marks"
   ]
  },
  {
   "cell_type": "code",
   "execution_count": 35,
   "id": "ed994b6d-fbba-470d-9daa-de7147588b84",
   "metadata": {},
   "outputs": [
    {
     "data": {
      "text/plain": [
       "'Male'"
      ]
     },
     "execution_count": 35,
     "metadata": {},
     "output_type": "execute_result"
    }
   ],
   "source": [
    "s1.gender"
   ]
  },
  {
   "cell_type": "code",
   "execution_count": 17,
   "id": "06f6841a-1a6e-48ec-9b0b-e057f023aa86",
   "metadata": {},
   "outputs": [
    {
     "name": "stdout",
     "output_type": "stream",
     "text": [
      "Welcome all !!!, We are learning OOPs concept\n"
     ]
    }
   ],
   "source": [
    "s1.welcome()"
   ]
  },
  {
   "cell_type": "code",
   "execution_count": 36,
   "id": "6a3eff6a-9298-44ee-8cf4-63aad5559fff",
   "metadata": {},
   "outputs": [],
   "source": [
    "class student:\n",
    "    college_name = 'abc' \n",
    "    def __init__(self,fullname,mrk,st_gender,st_city):\n",
    "        self.name = fullname \n",
    "        self.marks = mrk\n",
    "        self.gender = st_gender\n",
    "        self.city = st_city\n",
    "    @staticmethod \n",
    "    def welcome():\n",
    "        print('Welcome all !!!, We are learning OOPs concept')\n",
    "    \n",
    "    def display(self):\n",
    "        print('name of the student is : ',self.name)\n",
    "        print('gender of the student is : ',self.gender)\n",
    "        print('marks of the student is : ',self.marks)\n",
    "        print('city of the student is : ',self.city)\n",
    "        "
   ]
  },
  {
   "cell_type": "code",
   "execution_count": 37,
   "id": "27a5cb88-47a1-4d42-beb4-c9b7a54b7460",
   "metadata": {},
   "outputs": [],
   "source": [
    "std1 = student('Brain',[77,88,98],'Male','NY')"
   ]
  },
  {
   "cell_type": "code",
   "execution_count": 38,
   "id": "902ddfe8-4f40-41e2-a37b-02e31e092927",
   "metadata": {},
   "outputs": [
    {
     "name": "stdout",
     "output_type": "stream",
     "text": [
      "name of the student is :  Brain\n",
      "gender of the student is :  Male\n",
      "marks of the student is :  [77, 88, 98]\n",
      "city of the student is :  NY\n"
     ]
    }
   ],
   "source": [
    "std1.display()"
   ]
  },
  {
   "cell_type": "code",
   "execution_count": 40,
   "id": "2ee1db14-fac6-440c-82b1-7a38ca5dde9f",
   "metadata": {},
   "outputs": [],
   "source": [
    "std2 = student('Novac',[66,83,75],'Male','Mumbai')"
   ]
  },
  {
   "cell_type": "code",
   "execution_count": 41,
   "id": "145bea3b-858e-4cdf-b440-2fed3f624f2f",
   "metadata": {},
   "outputs": [
    {
     "name": "stdout",
     "output_type": "stream",
     "text": [
      "name of the student is :  Novac\n",
      "gender of the student is :  Male\n",
      "marks of the student is :  [66, 83, 75]\n",
      "city of the student is :  Mumbai\n"
     ]
    }
   ],
   "source": [
    "std2.display()"
   ]
  },
  {
   "cell_type": "markdown",
   "id": "d0304c68-967a-423e-8360-2525bf88e690",
   "metadata": {},
   "source": [
    "### Static Method\n",
    "\n",
    "    - Methods that dont use the self parameter (Work at class level)\n",
    "\n",
    "    Syntax : \n",
    "        class class_name:\n",
    "            @staticmethod  \n",
    "            def function():\n",
    "                statemtent"
   ]
  },
  {
   "cell_type": "code",
   "execution_count": 65,
   "id": "e69cf8d8-a7fa-4419-8381-2b5df6526d3b",
   "metadata": {},
   "outputs": [],
   "source": [
    "class student:\n",
    "    college_name = 'abc' \n",
    "    def __init__(self,fullname,mrk,st_gender,st_city):\n",
    "        self.name = fullname \n",
    "        self.marks = mrk\n",
    "        self.gender = st_gender\n",
    "        self.city = st_city\n",
    "    @staticmethod\n",
    "    def add(a,b):\n",
    "        print('addition of a and b is',a+b)\n",
    "    def display(self):\n",
    "        print('name of the student is : ',self.name)\n",
    "        print('gender of the student is : ',self.gender)\n",
    "        print('marks of the student is : ',self.marks)\n",
    "        print('city of the student is : ',self.city)"
   ]
  },
  {
   "cell_type": "code",
   "execution_count": 66,
   "id": "4057de18-f0cf-439d-b178-221fa9ada817",
   "metadata": {},
   "outputs": [],
   "source": [
    "std1 = student('Brain',[77,88,98],'Male','NY')"
   ]
  },
  {
   "cell_type": "code",
   "execution_count": 67,
   "id": "15140d12-fc22-45e6-93e6-600dcd7c21ed",
   "metadata": {},
   "outputs": [
    {
     "name": "stdout",
     "output_type": "stream",
     "text": [
      "addition of a and b is 122\n"
     ]
    }
   ],
   "source": [
    "std1.add(34,88)"
   ]
  },
  {
   "cell_type": "code",
   "execution_count": 68,
   "id": "fb3a0fc0-9153-41f4-8a92-f84030793242",
   "metadata": {},
   "outputs": [
    {
     "name": "stdout",
     "output_type": "stream",
     "text": [
      "name of the student is :  Brain\n",
      "gender of the student is :  Male\n",
      "marks of the student is :  [77, 88, 98]\n",
      "city of the student is :  NY\n"
     ]
    }
   ],
   "source": [
    "std1.display()"
   ]
  },
  {
   "cell_type": "code",
   "execution_count": 71,
   "id": "3c61f06d-5c23-464c-a2c8-46156e84b937",
   "metadata": {},
   "outputs": [],
   "source": [
    "## Create the student class that takes the name and marks of 4 subjects as agrgument in constructor\n",
    "# then create a method to print the average marks\n",
    "\n",
    "class student:\n",
    "    def __init__(self,fullname,mrk):\n",
    "        self.name = fullname \n",
    "        self.marks = mrk\n",
    "    def get_avg(self):\n",
    "        add = 0\n",
    "        for i in self.marks:\n",
    "            add += i\n",
    "        print('Average marks is : ',add/4)"
   ]
  },
  {
   "cell_type": "code",
   "execution_count": 72,
   "id": "c7d9e85e-8fc2-4e5b-acf2-fcc79c431064",
   "metadata": {},
   "outputs": [],
   "source": [
    "s4 = student('Tony',[87,86,85,90])"
   ]
  },
  {
   "cell_type": "code",
   "execution_count": 73,
   "id": "8d4ebb91-5491-4efe-b510-77a92cb3cba5",
   "metadata": {},
   "outputs": [
    {
     "name": "stdout",
     "output_type": "stream",
     "text": [
      "Average marks is :  87.0\n"
     ]
    }
   ],
   "source": [
    "s4.get_avg()"
   ]
  },
  {
   "cell_type": "code",
   "execution_count": null,
   "id": "ad9f12e9-34a0-44e7-8ae6-12e6813323a6",
   "metadata": {},
   "outputs": [],
   "source": []
  }
 ],
 "metadata": {
  "kernelspec": {
   "display_name": "Python 3 (ipykernel)",
   "language": "python",
   "name": "python3"
  },
  "language_info": {
   "codemirror_mode": {
    "name": "ipython",
    "version": 3
   },
   "file_extension": ".py",
   "mimetype": "text/x-python",
   "name": "python",
   "nbconvert_exporter": "python",
   "pygments_lexer": "ipython3",
   "version": "3.11.7"
  },
  "widgets": {
   "application/vnd.jupyter.widget-state+json": {
    "state": {},
    "version_major": 2,
    "version_minor": 0
   }
  }
 },
 "nbformat": 4,
 "nbformat_minor": 5
}
