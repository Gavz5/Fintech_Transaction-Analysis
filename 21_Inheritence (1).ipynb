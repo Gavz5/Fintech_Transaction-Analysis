{
 "cells": [
  {
   "cell_type": "markdown",
   "id": "bf15e700-51d3-42b3-b3be-4ce1e59b2301",
   "metadata": {},
   "source": [
    "### Inheritence\n",
    "\n",
    "    - The class from which properties are being derived is called as Base/Parent/Super Class.\n",
    "    - The class that derives properties is called as derived/child/sub class.\n",
    "    - In place of writing the same code again and again , we can simply inherit the properties of one class into the other class.\n",
    "\n",
    "        Syntax :\n",
    "            class parent_class:\n",
    "                body of parent class\n",
    "\n",
    "            class child_class(parent_class):\n",
    "                body of child class\n",
    "                "
   ]
  },
  {
   "cell_type": "code",
   "execution_count": 1,
   "id": "24c3c065-20d3-4b44-9181-d1308d980581",
   "metadata": {},
   "outputs": [],
   "source": [
    "class car:\n",
    "    def __init__(self,win,door,wheel,car_engine):\n",
    "        self.windows = win\n",
    "        self.doors = door\n",
    "        self.wheels = wheel\n",
    "        self.enginetype = car_engine\n",
    "    def driving(self):\n",
    "        print(\"Car is ready for driving\")"
   ]
  },
  {
   "cell_type": "code",
   "execution_count": 2,
   "id": "f43b2bea-ecdf-43a7-95c4-f6854cfb8618",
   "metadata": {},
   "outputs": [],
   "source": [
    "class nexon(car):\n",
    "    def __init__(self,win,door,wheel,car_engine,sunroof,fuel_type):\n",
    "        car.__init__(self,win,door,wheel,car_engine)\n",
    "        self.sunroofs = sunroof\n",
    "        self.fuel_ty = fuel_type"
   ]
  },
  {
   "cell_type": "code",
   "execution_count": 3,
   "id": "2f0587d2-cfc2-4109-a8d6-a127741e0269",
   "metadata": {},
   "outputs": [],
   "source": [
    "n1 = nexon(4,5,4,\"6-cylinder\",'Available','Disel')"
   ]
  },
  {
   "cell_type": "code",
   "execution_count": 4,
   "id": "ee15f49d-4f1c-4372-9829-5a30fc8410d5",
   "metadata": {},
   "outputs": [
    {
     "data": {
      "text/plain": [
       "'Available'"
      ]
     },
     "execution_count": 4,
     "metadata": {},
     "output_type": "execute_result"
    }
   ],
   "source": [
    "n1.sunroofs"
   ]
  },
  {
   "cell_type": "code",
   "execution_count": 5,
   "id": "2bd6b566-a942-4bc4-aef4-caf8b92d62d2",
   "metadata": {},
   "outputs": [
    {
     "data": {
      "text/plain": [
       "4"
      ]
     },
     "execution_count": 5,
     "metadata": {},
     "output_type": "execute_result"
    }
   ],
   "source": [
    "n1.windows"
   ]
  },
  {
   "cell_type": "code",
   "execution_count": 6,
   "id": "80a84fa5-dfec-45fc-8baf-e15de3612860",
   "metadata": {},
   "outputs": [
    {
     "data": {
      "text/plain": [
       "'Disel'"
      ]
     },
     "execution_count": 6,
     "metadata": {},
     "output_type": "execute_result"
    }
   ],
   "source": [
    "n1.fuel_ty"
   ]
  },
  {
   "cell_type": "code",
   "execution_count": 7,
   "id": "9b106464-5037-4bc3-88f5-bb9f863d9826",
   "metadata": {},
   "outputs": [],
   "source": [
    "n2 = nexon(5,4,5,\"8-cylinder\",\"Not Available\",\"Petrol\")"
   ]
  },
  {
   "cell_type": "code",
   "execution_count": 8,
   "id": "5a8bd1f3-adb1-4676-a0c7-e3e8ddc164ed",
   "metadata": {},
   "outputs": [
    {
     "data": {
      "text/plain": [
       "'Petrol'"
      ]
     },
     "execution_count": 8,
     "metadata": {},
     "output_type": "execute_result"
    }
   ],
   "source": [
    "n2.fuel_ty"
   ]
  },
  {
   "cell_type": "code",
   "execution_count": null,
   "id": "2056f45b-5a92-4564-b1a6-054310412d32",
   "metadata": {},
   "outputs": [],
   "source": [
    "# create the parent and child class, inherit the properties of parent class \n",
    "# attributes of parent class are  : Name, gender ,age\n",
    "# attributes of child class are : city, division\n",
    "# attributes of child2 are : department, email"
   ]
  },
  {
   "cell_type": "code",
   "execution_count": 11,
   "id": "f2153a9b-6c5c-440b-8f0c-fcbe2b5fa2b7",
   "metadata": {},
   "outputs": [],
   "source": [
    "class parent:\n",
    "    def __init__(self,p_name,p_gender,p_age):\n",
    "        self.name = p_name\n",
    "        self.gender = p_gender\n",
    "        self.age = p_age"
   ]
  },
  {
   "cell_type": "code",
   "execution_count": 12,
   "id": "1d31d9a6-e9e4-48bd-8dad-8e118bec7a69",
   "metadata": {},
   "outputs": [],
   "source": [
    "class child1(parent):\n",
    "    def __init__(self,p_name,p_gender,p_age,c_city,c_div):\n",
    "        parent.__init__(self,p_name,p_gender,p_age)\n",
    "        self.city = c_city\n",
    "        self.div = c_div"
   ]
  },
  {
   "cell_type": "code",
   "execution_count": 13,
   "id": "f1ce8009-7d2b-426a-ae21-57795896971b",
   "metadata": {},
   "outputs": [],
   "source": [
    "class child2(parent):\n",
    "    def __init__(self,p_name,p_gender,p_age,c_dept,c_email):\n",
    "        parent.__init__(self,p_name,p_gender,p_age)\n",
    "        self.dept = c_dept\n",
    "        self.email = c_email"
   ]
  },
  {
   "cell_type": "code",
   "execution_count": 14,
   "id": "43ed42b9-3116-45ab-afb1-2857fa9c3b39",
   "metadata": {},
   "outputs": [],
   "source": [
    "c1 = child1('Mike','Male',34,'New York','A')"
   ]
  },
  {
   "cell_type": "code",
   "execution_count": 15,
   "id": "177ebb79-982f-463a-9e7d-842c983cfb3e",
   "metadata": {},
   "outputs": [
    {
     "data": {
      "text/plain": [
       "'Mike'"
      ]
     },
     "execution_count": 15,
     "metadata": {},
     "output_type": "execute_result"
    }
   ],
   "source": [
    "c1.name"
   ]
  },
  {
   "cell_type": "code",
   "execution_count": 16,
   "id": "81af4889-af48-491f-abca-826cd47a133c",
   "metadata": {},
   "outputs": [
    {
     "data": {
      "text/plain": [
       "'Male'"
      ]
     },
     "execution_count": 16,
     "metadata": {},
     "output_type": "execute_result"
    }
   ],
   "source": [
    "c1.gender"
   ]
  },
  {
   "cell_type": "code",
   "execution_count": 17,
   "id": "d8acebe0-e313-4485-be61-414d73cb7b92",
   "metadata": {},
   "outputs": [
    {
     "data": {
      "text/plain": [
       "'New York'"
      ]
     },
     "execution_count": 17,
     "metadata": {},
     "output_type": "execute_result"
    }
   ],
   "source": [
    "c1.city"
   ]
  },
  {
   "cell_type": "code",
   "execution_count": 18,
   "id": "6570a9c4-ca94-4016-8b5c-6baff07457f1",
   "metadata": {},
   "outputs": [],
   "source": [
    "c2 = child2('kevin','M',22,'Sales','keving@gmail.com')"
   ]
  },
  {
   "cell_type": "code",
   "execution_count": 19,
   "id": "f9cf8882-c58d-470c-88a3-d50022a78489",
   "metadata": {},
   "outputs": [
    {
     "data": {
      "text/plain": [
       "'Sales'"
      ]
     },
     "execution_count": 19,
     "metadata": {},
     "output_type": "execute_result"
    }
   ],
   "source": [
    "c2.dept"
   ]
  },
  {
   "cell_type": "code",
   "execution_count": 20,
   "id": "466df5a6-ba22-464d-b971-580d64c173e6",
   "metadata": {},
   "outputs": [
    {
     "data": {
      "text/plain": [
       "'keving@gmail.com'"
      ]
     },
     "execution_count": 20,
     "metadata": {},
     "output_type": "execute_result"
    }
   ],
   "source": [
    "c2.email"
   ]
  },
  {
   "cell_type": "code",
   "execution_count": 21,
   "id": "250e2a75-90d5-4995-bc2c-f49b6fe444a6",
   "metadata": {},
   "outputs": [
    {
     "data": {
      "text/plain": [
       "'kevin'"
      ]
     },
     "execution_count": 21,
     "metadata": {},
     "output_type": "execute_result"
    }
   ],
   "source": [
    "c2.name"
   ]
  },
  {
   "cell_type": "code",
   "execution_count": 1,
   "id": "85861544-2d08-4616-bdef-92a48600012f",
   "metadata": {},
   "outputs": [],
   "source": [
    "### Multiple inheritance\n",
    "class car:\n",
    "    def __init__(self,win,door,wheel,car_engine):\n",
    "        self.windows = win\n",
    "        self.doors = door\n",
    "        self.wheels = wheel\n",
    "        self.enginetype = car_engine\n",
    "    def driving(self):\n",
    "        print(\"Car is ready for driving\")"
   ]
  },
  {
   "cell_type": "code",
   "execution_count": 3,
   "id": "01112a03-d801-4a7a-9f7c-3e29d3bdca9a",
   "metadata": {},
   "outputs": [],
   "source": [
    "class heavy_vehicle:\n",
    "    def __init__(self,load_cap,ac_cabin):\n",
    "        self.load_capacity = load_cap\n",
    "        self.cabin = ac_cabin"
   ]
  },
  {
   "cell_type": "code",
   "execution_count": 4,
   "id": "bcc157e1-6b31-4c0b-8e3d-a8d34a4ad6d7",
   "metadata": {},
   "outputs": [],
   "source": [
    "class pickup(car,heavy_vehicle):\n",
    "    def __init__(self,win,door,wheel,car_engine,load_cap,ac_cabin,fuel_t):\n",
    "        car.__init__(self,win,door,wheel,car_engine)\n",
    "        heavy_vehicle.__init__(self,load_cap,ac_cabin)\n",
    "        self.fuel_type = fuel_t"
   ]
  },
  {
   "cell_type": "code",
   "execution_count": 5,
   "id": "bbaa8d55-ae99-4deb-b330-cac7456a2a68",
   "metadata": {},
   "outputs": [],
   "source": [
    "p1 = pickup(2,2,6,'8-cylinder','2-tons','yes','Diesel')\n"
   ]
  },
  {
   "cell_type": "code",
   "execution_count": 6,
   "id": "1df6d093-db54-4d98-91e9-0fcbb097caa9",
   "metadata": {},
   "outputs": [
    {
     "data": {
      "text/plain": [
       "2"
      ]
     },
     "execution_count": 6,
     "metadata": {},
     "output_type": "execute_result"
    }
   ],
   "source": [
    "p1.doors"
   ]
  },
  {
   "cell_type": "code",
   "execution_count": 7,
   "id": "1ff3a2d6-c5e0-4bda-98fa-94533ef9dff0",
   "metadata": {},
   "outputs": [
    {
     "data": {
      "text/plain": [
       "'yes'"
      ]
     },
     "execution_count": 7,
     "metadata": {},
     "output_type": "execute_result"
    }
   ],
   "source": [
    "p1.cabin"
   ]
  },
  {
   "cell_type": "code",
   "execution_count": 8,
   "id": "4f7a71a4-73f7-4f63-920b-796edb2a9c34",
   "metadata": {},
   "outputs": [
    {
     "data": {
      "text/plain": [
       "'Diesel'"
      ]
     },
     "execution_count": 8,
     "metadata": {},
     "output_type": "execute_result"
    }
   ],
   "source": [
    "p1.fuel_type"
   ]
  },
  {
   "cell_type": "code",
   "execution_count": null,
   "id": "11a6418d-838d-4df4-9720-ebea657a52ee",
   "metadata": {},
   "outputs": [],
   "source": []
  }
 ],
 "metadata": {
  "kernelspec": {
   "display_name": "Python 3 (ipykernel)",
   "language": "python",
   "name": "python3"
  },
  "language_info": {
   "codemirror_mode": {
    "name": "ipython",
    "version": 3
   },
   "file_extension": ".py",
   "mimetype": "text/x-python",
   "name": "python",
   "nbconvert_exporter": "python",
   "pygments_lexer": "ipython3",
   "version": "3.11.7"
  },
  "widgets": {
   "application/vnd.jupyter.widget-state+json": {
    "state": {},
    "version_major": 2,
    "version_minor": 0
   }
  }
 },
 "nbformat": 4,
 "nbformat_minor": 5
}
